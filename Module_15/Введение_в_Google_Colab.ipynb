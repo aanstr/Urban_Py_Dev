{
  "nbformat": 4,
  "nbformat_minor": 0,
  "metadata": {
    "colab": {
      "provenance": [],
      "authorship_tag": "ABX9TyMUGfQ0BhARL8W/1R/lGDS9",
      "include_colab_link": true
    },
    "kernelspec": {
      "name": "python3",
      "display_name": "Python 3"
    },
    "language_info": {
      "name": "python"
    }
  },
  "cells": [
    {
      "cell_type": "markdown",
      "metadata": {
        "id": "view-in-github",
        "colab_type": "text"
      },
      "source": [
        "<a href=\"https://colab.research.google.com/github/aanstr/Urban_Py_Dev/blob/master/Module_15/%D0%92%D0%B2%D0%B5%D0%B4%D0%B5%D0%BD%D0%B8%D0%B5_%D0%B2_Google_Colab.ipynb\" target=\"_parent\"><img src=\"https://colab.research.google.com/assets/colab-badge.svg\" alt=\"Open In Colab\"/></a>"
      ]
    },
    {
      "cell_type": "markdown",
      "source": [
        "На сегодняшний день Google Colab - это самая популярная среда для работы с системами искусственного интеллекта и машинного обучения среди студентов и разработчиков."
      ],
      "metadata": {
        "id": "s5289H7aeT6T"
      }
    },
    {
      "cell_type": "code",
      "execution_count": null,
      "metadata": {
        "colab": {
          "base_uri": "https://localhost:8080/"
        },
        "id": "4JLKmvx-d204",
        "outputId": "f63bdff1-cb89-4854-c271-09b4141fe641"
      },
      "outputs": [
        {
          "output_type": "stream",
          "name": "stdout",
          "text": [
            "Hello, Google Colab!\n"
          ]
        }
      ],
      "source": [
        "print(\"Hello, Google Colab!\")"
      ]
    },
    {
      "cell_type": "code",
      "source": [
        "import random\n",
        "\n",
        "rand_nums = [random.randint(1, 100) for _ in range(10)]\n",
        "\n",
        "\n",
        "def summ(numbers):\n",
        "    return sum(numbers)\n",
        "\n",
        "\n",
        "print(summ(rand_nums))"
      ],
      "metadata": {
        "id": "DCkeZfY3e10e",
        "colab": {
          "base_uri": "https://localhost:8080/"
        },
        "outputId": "09057452-602e-4b6f-be85-fb3c39de5657"
      },
      "execution_count": null,
      "outputs": [
        {
          "output_type": "stream",
          "name": "stdout",
          "text": [
            "504\n"
          ]
        }
      ]
    },
    {
      "cell_type": "code",
      "source": [
        "!pip install numpy"
      ],
      "metadata": {
        "colab": {
          "base_uri": "https://localhost:8080/"
        },
        "id": "o2xs_54q2nsj",
        "outputId": "29d8dc26-8738-4baa-cd8f-0b83095b3f6e"
      },
      "execution_count": null,
      "outputs": [
        {
          "output_type": "stream",
          "name": "stdout",
          "text": [
            "Requirement already satisfied: numpy in /usr/local/lib/python3.10/dist-packages (1.26.4)\n"
          ]
        }
      ]
    },
    {
      "cell_type": "code",
      "source": [
        "import numpy as np\n",
        "import random\n",
        "\n",
        "rand_arr = np.random.randint(1, 100, 20)\n",
        "print(rand_arr)\n",
        "print(np.average(rand_arr))\n"
      ],
      "metadata": {
        "id": "G6W86eaO2sbs",
        "colab": {
          "base_uri": "https://localhost:8080/"
        },
        "outputId": "0536bc1b-4d74-4b31-e751-001dd39ca275"
      },
      "execution_count": null,
      "outputs": [
        {
          "output_type": "stream",
          "name": "stdout",
          "text": [
            "[99  1 11 65 27 35 70 31 21 43 19 20 64 35  7 47 65 63 93 81]\n",
            "44.85\n"
          ]
        }
      ]
    },
    {
      "cell_type": "code",
      "source": [
        "!pip install pandas"
      ],
      "metadata": {
        "colab": {
          "base_uri": "https://localhost:8080/"
        },
        "id": "wiOTcJQ_8Fhi",
        "outputId": "eaee140e-bbba-40d0-a68b-1c9dc8ee7d41"
      },
      "execution_count": null,
      "outputs": [
        {
          "output_type": "stream",
          "name": "stdout",
          "text": [
            "Requirement already satisfied: pandas in /usr/local/lib/python3.10/dist-packages (2.2.2)\n",
            "Requirement already satisfied: numpy>=1.22.4 in /usr/local/lib/python3.10/dist-packages (from pandas) (1.26.4)\n",
            "Requirement already satisfied: python-dateutil>=2.8.2 in /usr/local/lib/python3.10/dist-packages (from pandas) (2.8.2)\n",
            "Requirement already satisfied: pytz>=2020.1 in /usr/local/lib/python3.10/dist-packages (from pandas) (2024.2)\n",
            "Requirement already satisfied: tzdata>=2022.7 in /usr/local/lib/python3.10/dist-packages (from pandas) (2024.2)\n",
            "Requirement already satisfied: six>=1.5 in /usr/local/lib/python3.10/dist-packages (from python-dateutil>=2.8.2->pandas) (1.17.0)\n"
          ]
        }
      ]
    },
    {
      "cell_type": "code",
      "source": [
        "import pandas as pd\n",
        "\n",
        "\n",
        "file = '/content/wiki.csv'\n",
        "df = pd.read_csv(file, encoding='cp1251')\n",
        "print(df.head())"
      ],
      "metadata": {
        "colab": {
          "base_uri": "https://localhost:8080/"
        },
        "id": "SmddSYhW75Dn",
        "outputId": "7827a038-582c-4194-9e1f-a4bbde881bd7"
      },
      "execution_count": null,
      "outputs": [
        {
          "output_type": "stream",
          "name": "stdout",
          "text": [
            "    Год  Всего\\nнаселения  Место\\nв мире   Плотн-ть\\nна км2    Москва  \\\n",
            "0  1897          125640021           3-е                6.24  1038625   \n",
            "1  1920          136800000           3-е                6.96  1028200   \n",
            "2  1926          147027915           3-е                6.94  2025947   \n",
            "3  1937          162039470           3-е                7.65  3798078   \n",
            "4  1939          170557093           4-е                8.05  4131633   \n",
            "\n",
            "   Санкт-Петербург  \n",
            "0          1264920  \n",
            "1           740000  \n",
            "2          1590770  \n",
            "3          2814500  \n",
            "4          3191304  \n"
          ]
        }
      ]
    },
    {
      "cell_type": "code",
      "source": [
        "!pip install matplotlib"
      ],
      "metadata": {
        "colab": {
          "base_uri": "https://localhost:8080/"
        },
        "id": "O5nBwyhJ9oX8",
        "outputId": "51cbd6bf-cb2a-47db-cad5-dd6da69dfe03"
      },
      "execution_count": null,
      "outputs": [
        {
          "output_type": "stream",
          "name": "stdout",
          "text": [
            "Requirement already satisfied: matplotlib in /usr/local/lib/python3.10/dist-packages (3.8.0)\n",
            "Requirement already satisfied: contourpy>=1.0.1 in /usr/local/lib/python3.10/dist-packages (from matplotlib) (1.3.1)\n",
            "Requirement already satisfied: cycler>=0.10 in /usr/local/lib/python3.10/dist-packages (from matplotlib) (0.12.1)\n",
            "Requirement already satisfied: fonttools>=4.22.0 in /usr/local/lib/python3.10/dist-packages (from matplotlib) (4.55.3)\n",
            "Requirement already satisfied: kiwisolver>=1.0.1 in /usr/local/lib/python3.10/dist-packages (from matplotlib) (1.4.7)\n",
            "Requirement already satisfied: numpy<2,>=1.21 in /usr/local/lib/python3.10/dist-packages (from matplotlib) (1.26.4)\n",
            "Requirement already satisfied: packaging>=20.0 in /usr/local/lib/python3.10/dist-packages (from matplotlib) (24.2)\n",
            "Requirement already satisfied: pillow>=6.2.0 in /usr/local/lib/python3.10/dist-packages (from matplotlib) (11.0.0)\n",
            "Requirement already satisfied: pyparsing>=2.3.1 in /usr/local/lib/python3.10/dist-packages (from matplotlib) (3.2.0)\n",
            "Requirement already satisfied: python-dateutil>=2.7 in /usr/local/lib/python3.10/dist-packages (from matplotlib) (2.8.2)\n",
            "Requirement already satisfied: six>=1.5 in /usr/local/lib/python3.10/dist-packages (from python-dateutil>=2.7->matplotlib) (1.17.0)\n"
          ]
        }
      ]
    },
    {
      "cell_type": "code",
      "source": [
        "import matplotlib.pyplot as plt\n",
        "\n",
        "plt.plot(df['Год'], df['Москва'] / 1000000, label='Москва')\n",
        "plt.plot(df['Год'], df['Санкт-Петербург'] / 1000000, label='Санкт-Петербург')\n",
        "plt.xlabel('Год')\n",
        "plt.ylabel('Население, млн')\n",
        "plt.title('Динамика изменения населения городов')\n",
        "plt.legend()\n",
        "plt.show()"
      ],
      "metadata": {
        "colab": {
          "base_uri": "https://localhost:8080/",
          "height": 472
        },
        "id": "ywqMILvw-miP",
        "outputId": "7b892a38-a69d-4702-afe3-88859e11eb29"
      },
      "execution_count": null,
      "outputs": [
        {
          "output_type": "display_data",
          "data": {
            "text/plain": [
              "<Figure size 640x480 with 1 Axes>"
            ],
            "image/png": "[encoded data removed]"
          },
          "metadata": {}
        }
      ]
    }
  ]
}